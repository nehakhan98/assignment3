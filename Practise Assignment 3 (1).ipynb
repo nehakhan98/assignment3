{
 "cells": [
  {
   "cell_type": "markdown",
   "metadata": {},
   "source": [
    "# Q1:"
   ]
  },
  {
   "cell_type": "markdown",
   "metadata": {},
   "source": [
    "Think of at least three kinds of your favorite pizza. Store these pizza names in a list, and then use a for loop to print the name of each pizza."
   ]
  },
  {
   "cell_type": "code",
   "execution_count": 6,
   "metadata": {},
   "outputs": [
    {
     "name": "stdout",
     "output_type": "stream",
     "text": [
      "chicken supreme\n",
      "spicy ranch\n",
      "bbq buzz\n"
     ]
    }
   ],
   "source": [
    "favpizza=['chicken supreme','spicy ranch','bbq buzz']\n",
    "for a in favpizza:\n",
    "    print (a)"
   ]
  },
  {
   "cell_type": "code",
   "execution_count": null,
   "metadata": {},
   "outputs": [],
   "source": []
  },
  {
   "cell_type": "markdown",
   "metadata": {},
   "source": [
    "# Q2"
   ]
  },
  {
   "cell_type": "markdown",
   "metadata": {},
   "source": [
    "Start with your last question , Modify your for loop to print a sentence using the name of the pizza\n",
    "instead of printing just the name of the pizza. For each pizza you should\n",
    "have one line of output containing a simple statement like I like pepperoni\n",
    "pizza."
   ]
  },
  {
   "cell_type": "code",
   "execution_count": 5,
   "metadata": {},
   "outputs": [
    {
     "name": "stdout",
     "output_type": "stream",
     "text": [
      "i like chicken supreme\n",
      "i baked spicy ranch today\n",
      "people love to eat bbq buzz pizza\n"
     ]
    }
   ],
   "source": [
    "favpizza=['i like chicken supreme','i baked spicy ranch today','people love to eat bbq buzz pizza']\n",
    "for a in favpizza:\n",
    "    print (a)"
   ]
  },
  {
   "cell_type": "markdown",
   "metadata": {},
   "source": [
    "# Q3:"
   ]
  },
  {
   "cell_type": "markdown",
   "metadata": {},
   "source": [
    "Use a for loop to print the numbers from 1 to 20,\n",
    "inclusive."
   ]
  },
  {
   "cell_type": "code",
   "execution_count": 4,
   "metadata": {},
   "outputs": [
    {
     "name": "stdout",
     "output_type": "stream",
     "text": [
      "1\n",
      "2\n",
      "3\n",
      "4\n",
      "5\n",
      "6\n",
      "7\n",
      "8\n",
      "9\n",
      "10\n",
      "11\n",
      "12\n",
      "13\n",
      "14\n",
      "15\n",
      "16\n",
      "17\n",
      "18\n",
      "19\n",
      "20\n"
     ]
    }
   ],
   "source": [
    "for a in range(1,21):\n",
    "    print(a)"
   ]
  },
  {
   "cell_type": "markdown",
   "metadata": {},
   "source": [
    "# Q4:"
   ]
  },
  {
   "cell_type": "markdown",
   "metadata": {},
   "source": [
    "Use the third argument of the range() function to make a list\n",
    "of the odd numbers from 1 to 20. Use a for loop to print each number."
   ]
  },
  {
   "cell_type": "code",
   "execution_count": 2,
   "metadata": {},
   "outputs": [
    {
     "name": "stdout",
     "output_type": "stream",
     "text": [
      "1\n",
      "3\n",
      "5\n",
      "7\n",
      "9\n",
      "11\n",
      "13\n",
      "15\n",
      "17\n",
      "19\n"
     ]
    }
   ],
   "source": [
    "for a in range (1,21,2):\n",
    "    print(a)"
   ]
  },
  {
   "cell_type": "markdown",
   "metadata": {},
   "source": [
    "# Q5:"
   ]
  },
  {
   "cell_type": "markdown",
   "metadata": {},
   "source": [
    "Make a list of the multiples of 3 from 3 to 30. Use a for loop to\n",
    "print the numbers in your list."
   ]
  },
  {
   "cell_type": "code",
   "execution_count": 3,
   "metadata": {},
   "outputs": [
    {
     "name": "stdout",
     "output_type": "stream",
     "text": [
      "3\n",
      "6\n",
      "9\n",
      "12\n",
      "15\n",
      "18\n",
      "21\n",
      "24\n",
      "27\n",
      "30\n"
     ]
    }
   ],
   "source": [
    "numbers=[1,2,3,4,5,6,7,8,9,10]\n",
    "for i in numbers:\n",
    "    print(i*3)\n",
    "    "
   ]
  },
  {
   "cell_type": "markdown",
   "metadata": {},
   "source": [
    "# Q6:"
   ]
  },
  {
   "cell_type": "markdown",
   "metadata": {},
   "source": [
    "A number raised to the third power is called a cube. For example,\n",
    "the cube of 2 is written as 2**3 in Python. Make a list of the first 10 cubes (that\n",
    "is, the cube of each integer from 1 through 10), and use a for loop to print out\n",
    "the value of each cube"
   ]
  },
  {
   "cell_type": "code",
   "execution_count": 2,
   "metadata": {},
   "outputs": [
    {
     "name": "stdout",
     "output_type": "stream",
     "text": [
      "1\n",
      "8\n",
      "27\n",
      "64\n",
      "125\n",
      "216\n",
      "343\n",
      "512\n",
      "729\n",
      "1000\n"
     ]
    }
   ],
   "source": [
    "numbers=[1,2,3,4,5,6,7,8,9,10]\n",
    "for i in numbers:\n",
    "    print(i**3)\n",
    "    \n",
    " "
   ]
  },
  {
   "cell_type": "markdown",
   "metadata": {},
   "source": [
    "# Q7:"
   ]
  },
  {
   "cell_type": "markdown",
   "metadata": {},
   "source": [
    "###### Make a python program that conatains your nine favourite dishes in a list called foods.\n",
    "\n",
    "###### Print the message, The first three items in the list are:. \n",
    "###### Then use a slice to print the first three items from that program’s list.\n",
    "\n",
    "###### Print the message, Three items from the middle of the list are:\n",
    "###### Use a slice to print three items from the middle of the list.\n",
    "\n",
    "###### Print the message, The last three items in the list are:\n",
    "###### Use a slice to print the last three items in the list."
   ]
  },
  {
   "cell_type": "code",
   "execution_count": 13,
   "metadata": {},
   "outputs": [
    {
     "name": "stdout",
     "output_type": "stream",
     "text": [
      "First three dishes:\n",
      "Mutton Karhai\n",
      "Peshawri Karhai\n",
      "Green Karahai\n"
     ]
    }
   ],
   "source": [
    "favdishes=['Mutton Karhai','Peshawri Karhai','Green Karahai','White Chicken Handi','Malai Boti','Aghwani Pillaow','Beef Briyani','Chocolate Icecream','Fanta']\n",
    "print(f\"First three dishes:\")\n",
    "for breakfast in favdishes[0:3]:\n",
    "    print(breakfast)"
   ]
  },
  {
   "cell_type": "code",
   "execution_count": 17,
   "metadata": {},
   "outputs": [
    {
     "name": "stdout",
     "output_type": "stream",
     "text": [
      "Middle three dishes:\n",
      "White Chicken Handi\n",
      "Malai Boti\n",
      "Aghwani Pillaow\n"
     ]
    }
   ],
   "source": [
    "favdishes=['Mutton Karhai','Peshawri Karhai','Green Karahai','White Chicken Handi','Malai Boti','Aghwani Pillaow','Beef Briyani','Chocolate Icecream','Fanta']\n",
    "print(f\"Middle three dishes:\")\n",
    "for lunch in favdishes[3:6]:\n",
    "    print(lunch)"
   ]
  },
  {
   "cell_type": "code",
   "execution_count": 18,
   "metadata": {},
   "outputs": [
    {
     "name": "stdout",
     "output_type": "stream",
     "text": [
      "Last three dishes:\n",
      "Beef Briyani\n",
      "Chocolate Icecream\n",
      "Fanta\n"
     ]
    }
   ],
   "source": [
    "favdishes=['Mutton Karhai','Peshawri Karhai','Green Karahai','White Chicken Handi','Malai Boti','Aghwani Pillaow','Beef Briyani','Chocolate Icecream','Fanta']\n",
    "print(f\"Last three dishes:\")\n",
    "for dinner in favdishes[6:9]:\n",
    "    print(dinner)"
   ]
  },
  {
   "cell_type": "markdown",
   "metadata": {},
   "source": [
    "# Q8:"
   ]
  },
  {
   "cell_type": "markdown",
   "metadata": {},
   "source": [
    "### Start with your program from your last Question8.\n",
    "###### Make a copy of the list of foods, and call it friend_foods.\n",
    "###### Then, do the following:\n",
    "######    Add a new dish to the original list.\n",
    "######    Add a different dish to the list friend_foodss.\n",
    "######    Prove that you have two separate lists. \n",
    "###### Print the message, My favorite pizzas are: and then use a for loop to print the first list. \n",
    "###### Print the message,\n",
    "###### My friend’s favorite foods are:, and then use a for loop to print the second list.\n",
    "    \n",
    "##### NOTE: Make sure each new dish is stored in the appropriate list."
   ]
  },
  {
   "cell_type": "code",
   "execution_count": 14,
   "metadata": {},
   "outputs": [
    {
     "name": "stdout",
     "output_type": "stream",
     "text": [
      "New dish added:\n"
     ]
    },
    {
     "data": {
      "text/plain": [
       "['Mutton Karhai',\n",
       " 'Peshawri Karhai',\n",
       " 'Green Karahai',\n",
       " 'White Chicken Handi',\n",
       " 'Malai Boti',\n",
       " 'Aghwani Pillaow',\n",
       " 'Beef Briyani',\n",
       " 'Chocolate Icecream',\n",
       " 'Fanta',\n",
       " 'BBQ']"
      ]
     },
     "execution_count": 14,
     "metadata": {},
     "output_type": "execute_result"
    }
   ],
   "source": [
    "friend_Food=['Mutton Karhai','Peshawri Karhai','Green Karahai','White Chicken Handi','Malai Boti','Aghwani Pillaow','Beef Briyani','Chocolate Icecream','Fanta']\n",
    "print(f\"New dish added:\")\n",
    "friend_Food.append('BBQ')\n",
    "friend_Food"
   ]
  },
  {
   "cell_type": "code",
   "execution_count": 25,
   "metadata": {},
   "outputs": [],
   "source": [
    "friend_Food=['Mutton Karhai','Peshawri Karhai','Green Karahai','White Chicken Handi','Malai Boti','Aghwani Pillaow','Beef Briyani','Chocolate Icecream','Fanta']\n",
    "friend_foods=friend_Food.copy()"
   ]
  },
  {
   "cell_type": "code",
   "execution_count": 26,
   "metadata": {},
   "outputs": [
    {
     "data": {
      "text/plain": [
       "['Mutton Karhai',\n",
       " 'Peshawri Karhai',\n",
       " 'Green Karahai',\n",
       " 'White Chicken Handi',\n",
       " 'Malai Boti',\n",
       " 'Aghwani Pillaow',\n",
       " 'Beef Briyani',\n",
       " 'Chocolate Icecream',\n",
       " 'Fanta',\n",
       " 'Tea']"
      ]
     },
     "execution_count": 26,
     "metadata": {},
     "output_type": "execute_result"
    }
   ],
   "source": [
    "friend_foods.append('Tea')\n",
    "friend_foods"
   ]
  },
  {
   "cell_type": "code",
   "execution_count": 35,
   "metadata": {},
   "outputs": [
    {
     "name": "stdout",
     "output_type": "stream",
     "text": [
      "My fav Pizza\n",
      "Mutton Karhai\n",
      "Peshawri Karhai\n",
      "Green Karahai\n",
      "White Chicken Handi\n",
      "Malai Boti\n",
      "Aghwani Pillaow\n",
      "Beef Briyani\n",
      "Chocolate Icecream\n",
      "Fanta\n"
     ]
    }
   ],
   "source": [
    "friend_Food=['Mutton Karhai','Peshawri Karhai','Green Karahai','White Chicken Handi','Malai Boti','Aghwani Pillaow','Beef Briyani','Chocolate Icecream','Fanta']\n",
    "print(f\"My fav Pizza\",)\n",
    "for pizzas in friend_Food:\n",
    "    print(pizzas)\n",
    "    "
   ]
  },
  {
   "cell_type": "code",
   "execution_count": 36,
   "metadata": {},
   "outputs": [
    {
     "name": "stdout",
     "output_type": "stream",
     "text": [
      "My Friend's Fav Foods Are :\n",
      "Mutton Karhai\n",
      "Peshawri Karhai\n",
      "Green Karahai\n",
      "White Chicken Handi\n",
      "Malai Boti\n",
      "Aghwani Pillaow\n",
      "Beef Briyani\n",
      "Chocolate Icecream\n",
      "Fanta\n"
     ]
    }
   ],
   "source": [
    "print(f\"My Friend's Fav Foods Are :\")\n",
    "for friendfavfood in friend_Food:\n",
    "    print(friendfavfood)"
   ]
  },
  {
   "cell_type": "code",
   "execution_count": 38,
   "metadata": {},
   "outputs": [
    {
     "name": "stdout",
     "output_type": "stream",
     "text": [
      "My Fav Foods Are :\n",
      "Mutton Karhai\n",
      "Peshawri Karhai\n",
      "Green Karahai\n",
      "White Chicken Handi\n",
      "Malai Boti\n",
      "Aghwani Pillaow\n",
      "Beef Briyani\n",
      "Chocolate Icecream\n",
      "Fanta\n",
      "Tea\n"
     ]
    }
   ],
   "source": [
    "print(f\"My Fav Foods Are :\")\n",
    "for myfriendfavfood in friend_foods:\n",
    "    print(myfriendfavfood)"
   ]
  },
  {
   "cell_type": "markdown",
   "metadata": {},
   "source": [
    "# Q9:"
   ]
  },
  {
   "cell_type": "markdown",
   "metadata": {},
   "source": [
    "Take a user input from console line.Store it in a variable called Alien_color.\n",
    "\n",
    "If the alien’s color is red, print a statement that the player just earned 5 points for shooting the alien.\n",
    "\n",
    "If the alien’s color isn’t green, print a statement that the player just earned 10 points.\n",
    "\n",
    "If the alien's color isn't red or green , print a statment :, Alien is no more....."
   ]
  },
  {
   "cell_type": "code",
   "execution_count": 42,
   "metadata": {},
   "outputs": [
    {
     "name": "stdout",
     "output_type": "stream",
     "text": [
      "Enter the color of ALIEN green\n",
      "That the player just earned 10 points.\n"
     ]
    }
   ],
   "source": [
    "aliencolor=input(\"Enter the color of ALIEN \")\n",
    "if aliencolor==\"red\":\n",
    "    print(\"That the player just earned 5 points for shooting the alien.\")\n",
    "elif aliencolor==\"green\":\n",
    "        print(\"That the player just earned 10 points.\")\n",
    "else:\n",
    "    print(\"Alien is no more\")"
   ]
  },
  {
   "cell_type": "markdown",
   "metadata": {},
   "source": [
    "# Q10:"
   ]
  },
  {
   "cell_type": "markdown",
   "metadata": {},
   "source": [
    "Write an if-elif-else chain that determines a person’s\n",
    "stage of life. Set a value for the variable age, and then:\n",
    "    \n",
    "•\t If the person is less than 2 years old, print a message that the person is a baby.\n",
    "\n",
    "•\t If the person is at least 2 years old but less than 4, print a message that the person is a toddler.\n",
    "\n",
    "•\t If the person is at least 4 years old but less than 13, print a message that the person is a kid.\n",
    "\n",
    "•\t If the person is at least 13 years old but less than 20, print a message that the person is a teenager.\n",
    "\n",
    "•\t If the person is at least 20 years old but less than 65, print a message that the person is an adult.\n",
    "\n",
    "•\t If the person is age 65 or older, print a message that the person is an elder."
   ]
  },
  {
   "cell_type": "code",
   "execution_count": 3,
   "metadata": {},
   "outputs": [
    {
     "name": "stdout",
     "output_type": "stream",
     "text": [
      "Enter any age : 1\n",
      "The person is a Baby\n"
     ]
    }
   ],
   "source": [
    "age=int(input(\"Enter any age : \"))\n",
    "if age<2:\n",
    "    print(\"The person is a Baby\")\n",
    "elif age <=2 or age <4:\n",
    "    print(\"The person is a Toddler\")\n",
    "elif age <=4 or age <13:\n",
    "    print(\"The person is a Kid\")\n",
    "elif age <=13 or age <20:    \n",
    "    print(\"The person is a Teenager\")\n",
    "elif age <=20 or age <65:        \n",
    "    print(\"The person is a Adult\")\n",
    "else:\n",
    "    print(\"The person is an Elder\")\n",
    "    \n",
    "    "
   ]
  },
  {
   "cell_type": "code",
   "execution_count": null,
   "metadata": {},
   "outputs": [],
   "source": []
  },
  {
   "cell_type": "code",
   "execution_count": null,
   "metadata": {},
   "outputs": [],
   "source": []
  },
  {
   "cell_type": "code",
   "execution_count": null,
   "metadata": {},
   "outputs": [],
   "source": []
  },
  {
   "cell_type": "code",
   "execution_count": null,
   "metadata": {},
   "outputs": [],
   "source": []
  },
  {
   "cell_type": "code",
   "execution_count": null,
   "metadata": {},
   "outputs": [],
   "source": []
  },
  {
   "cell_type": "markdown",
   "metadata": {},
   "source": [
    "# Q11:"
   ]
  },
  {
   "cell_type": "markdown",
   "metadata": {},
   "source": [
    "Do the following to create a program that simulates how websites ensure that everyone has a unique username.\n",
    "\n",
    "•\t Make a list of five or more usernames called current_users.\n",
    "\n",
    "•\t Make another list of five usernames called new_users. \n",
    "Make sure one or two of the new usernames are also in the current_users list.\n",
    "\n",
    "•\t Loop through the new_users list to see if each new username has already been used. \n",
    "If it has, print a message that the person will need to enter a new username. \n",
    "If a username has not been used, print a message saying that the username is available.\n",
    "\n",
    "•\t Make sure your comparison is case insensitive. If 'John' has been used, 'JOHN' should not be accepted."
   ]
  },
  {
   "cell_type": "code",
   "execution_count": 15,
   "metadata": {},
   "outputs": [],
   "source": [
    "current_user=['Ahmed','Amna','Faheel','Neha','Mariyam']\n",
    "new_user=['Warda','Usman','Hamza','Ahsan','Neha']\n"
   ]
  },
  {
   "cell_type": "code",
   "execution_count": 16,
   "metadata": {},
   "outputs": [
    {
     "name": "stdout",
     "output_type": "stream",
     "text": [
      "Warda Username is available\n",
      "Usman Username is available\n",
      "Hamza Username is available\n",
      "Ahsan Username is available\n",
      "Neha username has been already used,You will need to enter a new username\n"
     ]
    }
   ],
   "source": [
    "for i in new_user:\n",
    "    if i in current_user:\n",
    "        print(f\"{i} username has been already used,You will need to enter a new username\")\n",
    "    else:\n",
    "          print(f\"{i} Username is available\")\n"
   ]
  },
  {
   "cell_type": "code",
   "execution_count": null,
   "metadata": {},
   "outputs": [],
   "source": []
  },
  {
   "cell_type": "markdown",
   "metadata": {},
   "source": [
    "# Q12:"
   ]
  },
  {
   "cell_type": "markdown",
   "metadata": {},
   "source": [
    "Use a dictionary to store information about a person you know.\n",
    "Store their first name, last name, age, and the city in which they live. \n",
    "You should have keys such as first_name, last_name, age, and city. \n",
    "Print each piece of information stored in your dictionary"
   ]
  },
  {
   "cell_type": "code",
   "execution_count": 6,
   "metadata": {},
   "outputs": [],
   "source": [
    "person_info={}\n"
   ]
  },
  {
   "cell_type": "code",
   "execution_count": 8,
   "metadata": {},
   "outputs": [],
   "source": [
    "person_info[\"First Name\"]=\"Neha\"\n",
    "person_info[\"Last Name\"]=\"khan\"\n",
    "person_info[\"Age\"]=\"21\"\n",
    "person_info[\"City\"]=\"Karachi\""
   ]
  },
  {
   "cell_type": "code",
   "execution_count": 9,
   "metadata": {},
   "outputs": [
    {
     "data": {
      "text/plain": [
       "{'Age': '21', 'City': 'Karachi', 'First Name': 'Neha', 'Last Name': 'khan'}"
      ]
     },
     "execution_count": 9,
     "metadata": {},
     "output_type": "execute_result"
    }
   ],
   "source": [
    "person_info"
   ]
  },
  {
   "cell_type": "code",
   "execution_count": 21,
   "metadata": {},
   "outputs": [
    {
     "name": "stdout",
     "output_type": "stream",
     "text": [
      "First Name :\n",
      "Last Name :\n",
      "Age:\n",
      "City:\n"
     ]
    }
   ],
   "source": [
    "for keys in person_info:\n",
    "    print(keys)"
   ]
  },
  {
   "cell_type": "code",
   "execution_count": 24,
   "metadata": {},
   "outputs": [
    {
     "name": "stdout",
     "output_type": "stream",
     "text": [
      ": Neha\n",
      ": khan\n",
      ": 21\n",
      ": Karachi\n"
     ]
    }
   ],
   "source": [
    "for key,val in person_info.items():\n",
    "    print(\":\",val)"
   ]
  },
  {
   "cell_type": "markdown",
   "metadata": {},
   "source": [
    "# Q13:"
   ]
  },
  {
   "cell_type": "markdown",
   "metadata": {},
   "source": [
    "Starts with your last question 12 , loop through the dictionary’s keys and values.\n",
    "When you’re sure that your loop works, add five more Python terms to your\n",
    "dictionary . When you run your program again, these new words and meanings\n",
    "should automatically be included in the output."
   ]
  },
  {
   "cell_type": "code",
   "execution_count": 10,
   "metadata": {},
   "outputs": [
    {
     "name": "stdout",
     "output_type": "stream",
     "text": [
      "First Name : Neha\n",
      "Last Name : khan\n",
      "Age : 21\n",
      "City : Karachi\n"
     ]
    }
   ],
   "source": [
    "for key,val in person_info.items():\n",
    "    print(key,\":\",val)"
   ]
  },
  {
   "cell_type": "code",
   "execution_count": 11,
   "metadata": {},
   "outputs": [],
   "source": [
    "person_info[\"Education\"]=\"B.ed\"\n",
    "person_info[\"Religion\"]=\"Islam\"\n",
    "person_info[\"Nationality\"]=\"Pakistani\"\n",
    "person_info[\"Hobby\"]=\"Creativity\"\n",
    "person_info[\"Profession\"]=\"Teaching\""
   ]
  },
  {
   "cell_type": "code",
   "execution_count": 12,
   "metadata": {},
   "outputs": [
    {
     "name": "stdout",
     "output_type": "stream",
     "text": [
      "First Name : Neha\n",
      "Last Name : khan\n",
      "Age : 21\n",
      "City : Karachi\n",
      "Education : B.ed\n",
      "Religion : Islam\n",
      "Nationality : Pakistani\n",
      "Hobby : Creativity\n",
      "Profession : Teaching\n"
     ]
    }
   ],
   "source": [
    "for key,val in person_info.items():\n",
    "    print(key,\":\",val)"
   ]
  },
  {
   "cell_type": "code",
   "execution_count": null,
   "metadata": {},
   "outputs": [],
   "source": []
  },
  {
   "cell_type": "code",
   "execution_count": null,
   "metadata": {},
   "outputs": [],
   "source": []
  },
  {
   "cell_type": "markdown",
   "metadata": {},
   "source": [
    "# Q14:"
   ]
  },
  {
   "cell_type": "markdown",
   "metadata": {},
   "source": [
    "Make a dictionary containing three major rivers and the country\n",
    "each river runs through. One key-value pair might be 'nile': 'egypt'.\n",
    "    \n",
    "    \n",
    "•\t Use a loop to print a sentence about each river, such as The Nile runs\n",
    "through Egypt.\n",
    "\n",
    "NOTE: use upper case through keys and values."
   ]
  },
  {
   "cell_type": "code",
   "execution_count": 7,
   "metadata": {},
   "outputs": [],
   "source": [
    "river_name={'Nile':'Ejypt','Lorie':'France','Shinano':'Japan'}\n"
   ]
  },
  {
   "cell_type": "code",
   "execution_count": 8,
   "metadata": {},
   "outputs": [
    {
     "name": "stdout",
     "output_type": "stream",
     "text": [
      "The NILE runs through EJYPT\n",
      "The LORIE runs through FRANCE\n",
      "The SHINANO runs through JAPAN\n"
     ]
    }
   ],
   "source": [
    "for river , country in river_name.items():\n",
    "    print(\"The \" + river.upper() + \" runs through \" + country .upper())\n"
   ]
  },
  {
   "cell_type": "markdown",
   "metadata": {},
   "source": [
    "# Q15:"
   ]
  },
  {
   "cell_type": "markdown",
   "metadata": {},
   "source": [
    "Make several dictionaries, where the name of each dictionary is the\n",
    "name of a pet. In each dictionary, include the kind of animal and the owner’s\n",
    "name. Store these dictionaries in a list called pets. Next, loop through your list\n",
    "and as you do print everything you know about each pet."
   ]
  },
  {
   "cell_type": "code",
   "execution_count": 5,
   "metadata": {},
   "outputs": [
    {
     "name": "stdout",
     "output_type": "stream",
     "text": [
      "Candy is a  Cat of  Mariyam\n",
      "Sandy is a  Kitten of  Warda\n",
      "Brolo is a  Dog of  Maham\n"
     ]
    }
   ],
   "source": [
    "Candy={\"name\":\"Candy\",\"kind\":\"Cat\",\"owner\":\"Mariyam\"}\n",
    "Sandy={\"name\":\"Sandy\",\"kind\":\"Kitten\",\"owner\":\"Warda\"}\n",
    "Brolo={\"name\":\"Brolo\",\"kind\":\"Dog\",\"owner\":\"Maham\"}\n",
    "pets=[Candy,Sandy,Brolo]c\n",
    "for i in pets:\n",
    "    print(i[\"name\"], \"is a \" , i[\"kind\"] , \"of \" , i[\"owner\"])"
   ]
  },
  {
   "cell_type": "code",
   "execution_count": null,
   "metadata": {},
   "outputs": [],
   "source": []
  }
 ],
 "metadata": {
  "kernelspec": {
   "display_name": "Python 3",
   "language": "python",
   "name": "python3"
  },
  "language_info": {
   "codemirror_mode": {
    "name": "ipython",
    "version": 3
   },
   "file_extension": ".py",
   "mimetype": "text/x-python",
   "name": "python",
   "nbconvert_exporter": "python",
   "pygments_lexer": "ipython3",
   "version": "3.6.4"
  }
 },
 "nbformat": 4,
 "nbformat_minor": 2
}
